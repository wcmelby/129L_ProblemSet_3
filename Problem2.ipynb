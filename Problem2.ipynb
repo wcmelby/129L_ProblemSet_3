{
 "cells": [
  {
   "cell_type": "markdown",
   "metadata": {},
   "source": [
    "# Homework 3, Question 2: Local Density of States for Electrons"
   ]
  },
  {
   "cell_type": "code",
   "execution_count": 1,
   "metadata": {},
   "outputs": [],
   "source": [
    "import os\n",
    "import numpy as np\n",
    "import matplotlib.pyplot as plt\n",
    "from mpl_toolkits.mplot3d import Axes3D"
   ]
  },
  {
   "cell_type": "markdown",
   "metadata": {},
   "source": [
    "Part a)"
   ]
  },
  {
   "cell_type": "code",
   "execution_count": 5,
   "metadata": {},
   "outputs": [
    {
     "name": "stdout",
     "output_type": "stream",
     "text": [
      "Saved heatmap: Local_density_of_states_near_band_edge-main/local_density_of_states_heatmap/heatmap_file_0.png\n",
      "Saved heatmap: Local_density_of_states_near_band_edge-main/local_density_of_states_heatmap/heatmap_file_1.png\n",
      "Saved heatmap: Local_density_of_states_near_band_edge-main/local_density_of_states_heatmap/heatmap_file_10.png\n",
      "Saved heatmap: Local_density_of_states_near_band_edge-main/local_density_of_states_heatmap/heatmap_file_2.png\n",
      "Saved heatmap: Local_density_of_states_near_band_edge-main/local_density_of_states_heatmap/heatmap_file_3.png\n",
      "Saved heatmap: Local_density_of_states_near_band_edge-main/local_density_of_states_heatmap/heatmap_file_4.png\n",
      "Saved heatmap: Local_density_of_states_near_band_edge-main/local_density_of_states_heatmap/heatmap_file_5.png\n",
      "Saved heatmap: Local_density_of_states_near_band_edge-main/local_density_of_states_heatmap/heatmap_file_6.png\n",
      "Saved heatmap: Local_density_of_states_near_band_edge-main/local_density_of_states_heatmap/heatmap_file_7.png\n",
      "Saved heatmap: Local_density_of_states_near_band_edge-main/local_density_of_states_heatmap/heatmap_file_8.png\n",
      "Saved heatmap: Local_density_of_states_near_band_edge-main/local_density_of_states_heatmap/heatmap_file_9.png\n",
      "Heatmaps saved in: Local_density_of_states_near_band_edge-main/local_density_of_states_heatmap\n"
     ]
    }
   ],
   "source": [
    "# Directories\n",
    "input_dir = \"./Local_density_of_states_near_band_edge-main\"  # Path where your .txt files are located\n",
    "output_dir = os.path.join(\n",
    "    \"Local_density_of_states_near_band_edge-main\", \"local_density_of_states_heatmap\"\n",
    ")\n",
    "\n",
    "# Process each .txt file in the directory\n",
    "for filename in os.listdir(input_dir):\n",
    "    if filename.endswith(\".txt\"):\n",
    "        # Extract the index from the filename (assumes format: local_density_of_states_for_level_<index>.txt)\n",
    "        try:\n",
    "            file_index = int(filename.split(\"_\")[-1].split(\".\")[0])\n",
    "        except ValueError:\n",
    "            print(f\"Error extracting index from filename: {filename}\")\n",
    "            continue\n",
    "\n",
    "        # Read the .txt file\n",
    "        filepath = os.path.join(input_dir, filename)\n",
    "        try:\n",
    "            data = np.genfromtxt(filepath, delimiter=\",\")  # Handle trailing commas\n",
    "        except ValueError as e:\n",
    "            print(f\"Error reading file {filename}: {e}\")\n",
    "            continue\n",
    "\n",
    "        # Generate the heatmap\n",
    "        plt.figure(figsize=(8, 6))\n",
    "        plt.imshow(data, cmap=\"viridis\", aspect=\"auto\")\n",
    "        plt.colorbar(label=\"Local Electron Density\")\n",
    "        plt.title(f\"Heatmap of Local Electron Density (File {file_index})\")\n",
    "        plt.xlabel(\"X-axis\")\n",
    "        plt.ylabel(\"Y-axis\")\n",
    "\n",
    "        # Save the heatmap with the same index as the .txt file\n",
    "        output_filepath = os.path.join(output_dir, f\"heatmap_file_{file_index}.png\")\n",
    "        try:\n",
    "            plt.savefig(output_filepath, dpi=300)\n",
    "            print(f\"Saved heatmap: {output_filepath}\")\n",
    "        except Exception as e:\n",
    "            print(f\"Error saving heatmap for file '{filename}': {e}\")\n",
    "        plt.close()\n",
    "\n",
    "print(f\"Heatmaps saved in: {output_dir}\")"
   ]
  },
  {
   "cell_type": "markdown",
   "metadata": {},
   "source": [
    "Part b)"
   ]
  },
  {
   "cell_type": "code",
   "execution_count": 7,
   "metadata": {},
   "outputs": [
    {
     "name": "stdout",
     "output_type": "stream",
     "text": [
      "Saved height profile: Local_density_of_states_near_band_edge-main/local_density_of_states_height/height_profile_file_0.png\n",
      "Saved height profile: Local_density_of_states_near_band_edge-main/local_density_of_states_height/height_profile_file_1.png\n",
      "Saved height profile: Local_density_of_states_near_band_edge-main/local_density_of_states_height/height_profile_file_10.png\n",
      "Saved height profile: Local_density_of_states_near_band_edge-main/local_density_of_states_height/height_profile_file_2.png\n",
      "Saved height profile: Local_density_of_states_near_band_edge-main/local_density_of_states_height/height_profile_file_3.png\n",
      "Saved height profile: Local_density_of_states_near_band_edge-main/local_density_of_states_height/height_profile_file_4.png\n",
      "Saved height profile: Local_density_of_states_near_band_edge-main/local_density_of_states_height/height_profile_file_5.png\n",
      "Saved height profile: Local_density_of_states_near_band_edge-main/local_density_of_states_height/height_profile_file_6.png\n",
      "Saved height profile: Local_density_of_states_near_band_edge-main/local_density_of_states_height/height_profile_file_7.png\n",
      "Saved height profile: Local_density_of_states_near_band_edge-main/local_density_of_states_height/height_profile_file_8.png\n",
      "Saved height profile: Local_density_of_states_near_band_edge-main/local_density_of_states_height/height_profile_file_9.png\n",
      "Height profiles saved in: Local_density_of_states_near_band_edge-main/local_density_of_states_height\n"
     ]
    }
   ],
   "source": [
    "import os\n",
    "import numpy as np\n",
    "import matplotlib.pyplot as plt\n",
    "from mpl_toolkits.mplot3d import Axes3D\n",
    "\n",
    "# Directories\n",
    "input_dir = \"./Local_density_of_states_near_band_edge-main\"  # Path where your .txt files are located\n",
    "output_dir = os.path.join(\n",
    "    \"Local_density_of_states_near_band_edge-main\", \"local_density_of_states_height\"\n",
    ")\n",
    "\n",
    "# Process each .txt file in the directory\n",
    "for filename in os.listdir(input_dir):\n",
    "    if filename.endswith(\".txt\"):\n",
    "        # Extract the index from the filename (assumes format: local_density_of_states_for_level_<index>.txt)\n",
    "        try:\n",
    "            file_index = int(filename.split(\"_\")[-1].split(\".\")[0])\n",
    "        except ValueError:\n",
    "            print(f\"Error extracting index from filename: {filename}\")\n",
    "            continue\n",
    "\n",
    "        # Read the .txt file\n",
    "        filepath = os.path.join(input_dir, filename)\n",
    "        try:\n",
    "            data = np.genfromtxt(filepath, delimiter=\",\")  # Handle trailing commas\n",
    "        except ValueError as e:\n",
    "            print(f\"Error reading file {filename}: {e}\")\n",
    "            continue\n",
    "\n",
    "        # Create a 2D grid for plotting\n",
    "        x = np.arange(data.shape[1])\n",
    "        y = np.arange(data.shape[0])\n",
    "        X, Y = np.meshgrid(x, y)\n",
    "\n",
    "        # Generate the surface plot\n",
    "        fig = plt.figure(figsize=(10, 8))\n",
    "        ax = fig.add_subplot(111, projection='3d')\n",
    "        surface = ax.plot_surface(X, Y, data, cmap=\"viridis\", edgecolor=\"k\")\n",
    "        fig.colorbar(surface, ax=ax, shrink=0.5, aspect=10, label=\"Local Electron Density\")\n",
    "        ax.set_title(f\"Height Profile of Local Electron Density (File {file_index})\")\n",
    "        ax.set_xlabel(\"X-axis\")\n",
    "        ax.set_ylabel(\"Y-axis\")\n",
    "        ax.set_zlabel(\"Electron Density\")\n",
    "\n",
    "        # Save the surface plot\n",
    "        output_filepath = os.path.join(output_dir, f\"height_profile_file_{file_index}.png\")\n",
    "        try:\n",
    "            plt.savefig(output_filepath, dpi=300)\n",
    "            print(f\"Saved height profile: {output_filepath}\")\n",
    "        except Exception as e:\n",
    "            print(f\"Error saving height profile for file '{filename}': {e}\")\n",
    "        plt.close()\n",
    "\n",
    "print(f\"Height profiles saved in: {output_dir}\")"
   ]
  },
  {
   "cell_type": "markdown",
   "metadata": {},
   "source": [
    "Part c)"
   ]
  },
  {
   "cell_type": "markdown",
   "metadata": {},
   "source": [
    "Plot the average density of states in a subregion (center of the array) across the different indices. "
   ]
  },
  {
   "cell_type": "markdown",
   "metadata": {},
   "source": []
  },
  {
   "cell_type": "code",
   "execution_count": 8,
   "metadata": {},
   "outputs": [
    {
     "data": {
      "image/png": "[encoded data removed]",
      "text/plain": [
       "<Figure size 800x600 with 1 Axes>"
      ]
     },
     "metadata": {},
     "output_type": "display_data"
    },
    {
     "name": "stdout",
     "output_type": "stream",
     "text": [
      "Plot saved as ./Local_density_of_states_near_band_edge-main/average_ldos_plot.png\n"
     ]
    }
   ],
   "source": [
    "# Directories\n",
    "input_dir = \"./Local_density_of_states_near_band_edge-main\"  # Path to .txt files\n",
    "\n",
    "# Initialize lists for plotting\n",
    "file_indices = []\n",
    "average_ldos_values = []\n",
    "\n",
    "# Determine the size of the data by reading one file\n",
    "sample_file = os.path.join(input_dir, \"local_density_of_states_for_level_0.txt\")\n",
    "sample_data = np.loadtxt(sample_file, delimiter=\",\")\n",
    "rows, cols = sample_data.shape\n",
    "\n",
    "# Define subregion around the center (e.g., 20x20)\n",
    "center_x, center_y = rows // 2, cols // 2\n",
    "half_window = 10  # Defines a 20x20 window\n",
    "x_start, x_end = center_x - half_window, center_x + half_window\n",
    "y_start, y_end = center_y - half_window, center_y + half_window\n",
    "\n",
    "# Get filenames and sort numerically\n",
    "filenames = [f for f in os.listdir(input_dir) if f.endswith(\".txt\")]\n",
    "filenames.sort(key=lambda x: int(x.split(\"_\")[-1].split(\".\")[0]))  # Sort numerically based on the index\n",
    "\n",
    "# Process each .txt file\n",
    "for filename in filenames:\n",
    "    # Extract file index from the filename\n",
    "    file_index = int(filename.split(\"_\")[-1].split(\".\")[0])\n",
    "    \n",
    "    # Load the data\n",
    "    filepath = os.path.join(input_dir, filename)\n",
    "    data = np.loadtxt(filepath, delimiter=\",\")\n",
    "    \n",
    "    # Extract the central subregion\n",
    "    subregion = data[x_start:x_end, y_start:y_end]\n",
    "    \n",
    "    # Compute the average LDOS\n",
    "    avg_ldos = np.mean(subregion)\n",
    "    \n",
    "    # Store the results\n",
    "    file_indices.append(file_index)\n",
    "    average_ldos_values.append(avg_ldos)\n",
    "\n",
    "# Plot the results\n",
    "plt.figure(figsize=(8, 6))\n",
    "plt.plot(file_indices, average_ldos_values, marker=\"o\", linestyle=\"-\", color=\"b\")\n",
    "plt.xlabel(\"File Index\")\n",
    "plt.ylabel(\"Average Local Density of States\")\n",
    "plt.title(\"Average LDOS in Central Region Across Files\")\n",
    "plt.grid(True)\n",
    "\n",
    "# Save the plot\n",
    "output_plot_path = os.path.join(input_dir, \"average_ldos_plot.png\")\n",
    "# plt.savefig(output_plot_path, dpi=300)\n",
    "plt.show()\n",
    "\n",
    "print(f\"Plot saved as {output_plot_path}\")"
   ]
  },
  {
   "cell_type": "markdown",
   "metadata": {},
   "source": [
    "The subregion chosen for this plot is a 20x20 square section from the center of the array. Physically, this analysis shows that there is a high average local density for the lower indices. Overall, this central density tends to decrease with higher indices, although the trend has notable exceptions at indices 2 and 4. When the central density goes down, the electron density is likely becoming more diffuse and equalized across the whole array. It could also be that the states are less populated overall, if there is a different energy level or different number of electrons in the system. The exceptions in the trend could be due to local substates or resonances in the system. "
   ]
  }
 ],
 "metadata": {
  "kernelspec": {
   "display_name": "Python 3",
   "language": "python",
   "name": "python3"
  },
  "language_info": {
   "codemirror_mode": {
    "name": "ipython",
    "version": 3
   },
   "file_extension": ".py",
   "mimetype": "text/x-python",
   "name": "python",
   "nbconvert_exporter": "python",
   "pygments_lexer": "ipython3",
   "version": "3.8.10"
  }
 },
 "nbformat": 4,
 "nbformat_minor": 2
}
