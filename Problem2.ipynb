{
 "cells": [
  {
   "cell_type": "markdown",
   "metadata": {},
   "source": [
    "# Homework 3, Question 2: Local Density of States for Electrons"
   ]
  },
  {
   "cell_type": "code",
   "execution_count": 6,
   "metadata": {},
   "outputs": [],
   "source": [
    "import os\n",
    "import numpy as np\n",
    "import matplotlib.pyplot as plt\n",
    "from mpl_toolkits.mplot3d import Axes3D"
   ]
  },
  {
   "cell_type": "markdown",
   "metadata": {},
   "source": [
    "Part a)"
   ]
  },
  {
   "cell_type": "code",
   "execution_count": 5,
   "metadata": {},
   "outputs": [
    {
     "name": "stdout",
     "output_type": "stream",
     "text": [
      "Saved heatmap: Local_density_of_states_near_band_edge-main/local_density_of_states_heatmap/heatmap_file_0.png\n",
      "Saved heatmap: Local_density_of_states_near_band_edge-main/local_density_of_states_heatmap/heatmap_file_1.png\n",
      "Saved heatmap: Local_density_of_states_near_band_edge-main/local_density_of_states_heatmap/heatmap_file_10.png\n",
      "Saved heatmap: Local_density_of_states_near_band_edge-main/local_density_of_states_heatmap/heatmap_file_2.png\n",
      "Saved heatmap: Local_density_of_states_near_band_edge-main/local_density_of_states_heatmap/heatmap_file_3.png\n",
      "Saved heatmap: Local_density_of_states_near_band_edge-main/local_density_of_states_heatmap/heatmap_file_4.png\n",
      "Saved heatmap: Local_density_of_states_near_band_edge-main/local_density_of_states_heatmap/heatmap_file_5.png\n",
      "Saved heatmap: Local_density_of_states_near_band_edge-main/local_density_of_states_heatmap/heatmap_file_6.png\n",
      "Saved heatmap: Local_density_of_states_near_band_edge-main/local_density_of_states_heatmap/heatmap_file_7.png\n",
      "Saved heatmap: Local_density_of_states_near_band_edge-main/local_density_of_states_heatmap/heatmap_file_8.png\n",
      "Saved heatmap: Local_density_of_states_near_band_edge-main/local_density_of_states_heatmap/heatmap_file_9.png\n",
      "Heatmaps saved in: Local_density_of_states_near_band_edge-main/local_density_of_states_heatmap\n"
     ]
    }
   ],
   "source": [
    "# Directories\n",
    "input_dir = \"./Local_density_of_states_near_band_edge-main\"  # Path where your .txt files are located\n",
    "output_dir = os.path.join(\n",
    "    \"Local_density_of_states_near_band_edge-main\", \"local_density_of_states_heatmap\"\n",
    ")\n",
    "\n",
    "# Process each .txt file in the directory\n",
    "for filename in os.listdir(input_dir):\n",
    "    if filename.endswith(\".txt\"):\n",
    "        # Extract the index from the filename (assumes format: local_density_of_states_for_level_<index>.txt)\n",
    "        try:\n",
    "            file_index = int(filename.split(\"_\")[-1].split(\".\")[0])\n",
    "        except ValueError:\n",
    "            print(f\"Error extracting index from filename: {filename}\")\n",
    "            continue\n",
    "\n",
    "        # Read the .txt file\n",
    "        filepath = os.path.join(input_dir, filename)\n",
    "        try:\n",
    "            data = np.genfromtxt(filepath, delimiter=\",\")  # Handle trailing commas\n",
    "        except ValueError as e:\n",
    "            print(f\"Error reading file {filename}: {e}\")\n",
    "            continue\n",
    "\n",
    "        # Generate the heatmap\n",
    "        plt.figure(figsize=(8, 6))\n",
    "        plt.imshow(data, cmap=\"viridis\", aspect=\"auto\")\n",
    "        plt.colorbar(label=\"Local Electron Density\")\n",
    "        plt.title(f\"Heatmap of Local Electron Density (File {file_index})\")\n",
    "        plt.xlabel(\"X-axis\")\n",
    "        plt.ylabel(\"Y-axis\")\n",
    "\n",
    "        # Save the heatmap with the same index as the .txt file\n",
    "        output_filepath = os.path.join(output_dir, f\"heatmap_file_{file_index}.png\")\n",
    "        try:\n",
    "            plt.savefig(output_filepath, dpi=300)\n",
    "            print(f\"Saved heatmap: {output_filepath}\")\n",
    "        except Exception as e:\n",
    "            print(f\"Error saving heatmap for file '{filename}': {e}\")\n",
    "        plt.close()\n",
    "\n",
    "print(f\"Heatmaps saved in: {output_dir}\")"
   ]
  },
  {
   "cell_type": "markdown",
   "metadata": {},
   "source": [
    "Part b)"
   ]
  },
  {
   "cell_type": "code",
   "execution_count": 7,
   "metadata": {},
   "outputs": [
    {
     "name": "stdout",
     "output_type": "stream",
     "text": [
      "Saved height profile: Local_density_of_states_near_band_edge-main/local_density_of_states_height/height_profile_file_0.png\n",
      "Saved height profile: Local_density_of_states_near_band_edge-main/local_density_of_states_height/height_profile_file_1.png\n",
      "Saved height profile: Local_density_of_states_near_band_edge-main/local_density_of_states_height/height_profile_file_10.png\n",
      "Saved height profile: Local_density_of_states_near_band_edge-main/local_density_of_states_height/height_profile_file_2.png\n",
      "Saved height profile: Local_density_of_states_near_band_edge-main/local_density_of_states_height/height_profile_file_3.png\n",
      "Saved height profile: Local_density_of_states_near_band_edge-main/local_density_of_states_height/height_profile_file_4.png\n",
      "Saved height profile: Local_density_of_states_near_band_edge-main/local_density_of_states_height/height_profile_file_5.png\n",
      "Saved height profile: Local_density_of_states_near_band_edge-main/local_density_of_states_height/height_profile_file_6.png\n",
      "Saved height profile: Local_density_of_states_near_band_edge-main/local_density_of_states_height/height_profile_file_7.png\n",
      "Saved height profile: Local_density_of_states_near_band_edge-main/local_density_of_states_height/height_profile_file_8.png\n",
      "Saved height profile: Local_density_of_states_near_band_edge-main/local_density_of_states_height/height_profile_file_9.png\n",
      "Height profiles saved in: Local_density_of_states_near_band_edge-main/local_density_of_states_height\n"
     ]
    }
   ],
   "source": [
    "import os\n",
    "import numpy as np\n",
    "import matplotlib.pyplot as plt\n",
    "from mpl_toolkits.mplot3d import Axes3D\n",
    "\n",
    "# Directories\n",
    "input_dir = \"./Local_density_of_states_near_band_edge-main\"  # Path where your .txt files are located\n",
    "output_dir = os.path.join(\n",
    "    \"Local_density_of_states_near_band_edge-main\", \"local_density_of_states_height\"\n",
    ")\n",
    "\n",
    "# Process each .txt file in the directory\n",
    "for filename in os.listdir(input_dir):\n",
    "    if filename.endswith(\".txt\"):\n",
    "        # Extract the index from the filename (assumes format: local_density_of_states_for_level_<index>.txt)\n",
    "        try:\n",
    "            file_index = int(filename.split(\"_\")[-1].split(\".\")[0])\n",
    "        except ValueError:\n",
    "            print(f\"Error extracting index from filename: {filename}\")\n",
    "            continue\n",
    "\n",
    "        # Read the .txt file\n",
    "        filepath = os.path.join(input_dir, filename)\n",
    "        try:\n",
    "            data = np.genfromtxt(filepath, delimiter=\",\")  # Handle trailing commas\n",
    "        except ValueError as e:\n",
    "            print(f\"Error reading file {filename}: {e}\")\n",
    "            continue\n",
    "\n",
    "        # Create a 2D grid for plotting\n",
    "        x = np.arange(data.shape[1])\n",
    "        y = np.arange(data.shape[0])\n",
    "        X, Y = np.meshgrid(x, y)\n",
    "\n",
    "        # Generate the surface plot\n",
    "        fig = plt.figure(figsize=(10, 8))\n",
    "        ax = fig.add_subplot(111, projection='3d')\n",
    "        surface = ax.plot_surface(X, Y, data, cmap=\"viridis\", edgecolor=\"k\")\n",
    "        fig.colorbar(surface, ax=ax, shrink=0.5, aspect=10, label=\"Local Electron Density\")\n",
    "        ax.set_title(f\"Height Profile of Local Electron Density (File {file_index})\")\n",
    "        ax.set_xlabel(\"X-axis\")\n",
    "        ax.set_ylabel(\"Y-axis\")\n",
    "        ax.set_zlabel(\"Electron Density\")\n",
    "\n",
    "        # Save the surface plot\n",
    "        output_filepath = os.path.join(output_dir, f\"height_profile_file_{file_index}.png\")\n",
    "        try:\n",
    "            plt.savefig(output_filepath, dpi=300)\n",
    "            print(f\"Saved height profile: {output_filepath}\")\n",
    "        except Exception as e:\n",
    "            print(f\"Error saving height profile for file '{filename}': {e}\")\n",
    "        plt.close()\n",
    "\n",
    "print(f\"Height profiles saved in: {output_dir}\")"
   ]
  },
  {
   "cell_type": "markdown",
   "metadata": {},
   "source": [
    "Part c)"
   ]
  },
  {
   "cell_type": "markdown",
   "metadata": {},
   "source": []
  }
 ],
 "metadata": {
  "kernelspec": {
   "display_name": "Python 3",
   "language": "python",
   "name": "python3"
  },
  "language_info": {
   "codemirror_mode": {
    "name": "ipython",
    "version": 3
   },
   "file_extension": ".py",
   "mimetype": "text/x-python",
   "name": "python",
   "nbconvert_exporter": "python",
   "pygments_lexer": "ipython3",
   "version": "3.8.10"
  }
 },
 "nbformat": 4,
 "nbformat_minor": 2
}
