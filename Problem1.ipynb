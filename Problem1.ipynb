{
 "cells": [
  {
   "cell_type": "markdown",
   "metadata": {},
   "source": [
    "# Homework 3, Question 1: Normail Distribution (Gaussian)"
   ]
  },
  {
   "cell_type": "code",
   "execution_count": 1,
   "metadata": {},
   "outputs": [],
   "source": [
    "import numpy as np\n",
    "import scipy.integrate as spi"
   ]
  },
  {
   "cell_type": "markdown",
   "metadata": {},
   "source": [
    "**Part A) Numerical Verification**"
   ]
  },
  {
   "cell_type": "code",
   "execution_count": 2,
   "metadata": {},
   "outputs": [],
   "source": [
    "# Define the integrand function\n",
    "def integrand(*v, A, w):\n",
    "    v = np.array(v)  # Convert tuple to array\n",
    "    exponent = -0.5 * v.T @ A @ v + v.T @ w\n",
    "    return np.exp(exponent)\n",
    "\n",
    "# Function to compute both numerical integral and closed-form result\n",
    "def verify_integral(A, w):\n",
    "    N = len(w)\n",
    "\n",
    "    # Ensure A is symmetric positive definite\n",
    "    if not np.allclose(A, A.T) or np.any(np.linalg.eigvals(A) <= 0):\n",
    "        raise ValueError(\"Matrix A must be symmetric positive definite.\")\n",
    "\n",
    "    # Compute closed-form expression\n",
    "    A_inv = np.linalg.inv(A)\n",
    "    determinant_factor = np.sqrt(np.linalg.det(A_inv) * (2 * np.pi)**N)\n",
    "    exponential_factor = np.exp(0.5 * w.T @ A_inv @ w)\n",
    "    rhs = determinant_factor * exponential_factor\n",
    "\n",
    "    # Perform numerical integration\n",
    "    bounds = [(-10, 10)] * N  # Set integration limits\n",
    "    lhs, error = spi.nquad(lambda *v: integrand(*v, A=A, w=w), bounds)\n",
    "\n",
    "    return lhs, rhs, error"
   ]
  },
  {
   "cell_type": "markdown",
   "metadata": {},
   "source": [
    "**Part b) Test Run**"
   ]
  },
  {
   "cell_type": "code",
   "execution_count": 3,
   "metadata": {},
   "outputs": [],
   "source": [
    "w = np.array([1, 2, 3])\n",
    "A = np.array([[4, 2, 1], [2, 5, 3], [1, 3, 6]])\n",
    "A_prime = np.array([[4, 2, 1], [2, 1, 3], [1, 3, 6]])"
   ]
  },
  {
   "cell_type": "code",
   "execution_count": 4,
   "metadata": {},
   "outputs": [
    {
     "name": "stdout",
     "output_type": "stream",
     "text": [
      "Numerical Integral (LHS): 4.275823659012836\n",
      "Closed-form Expression (RHS): 4.275823659011514\n",
      "Integration Error Estimate: 2.525160790867566e-08\n"
     ]
    }
   ],
   "source": [
    "# Run verification\n",
    "lhs_A, rhs_A, error_A = verify_integral(A, w)\n",
    "\n",
    "print(\"Numerical Integral (LHS):\", lhs_A)\n",
    "print(\"Closed-form Expression (RHS):\", rhs_A)\n",
    "print(\"Integration Error Estimate:\", error_A)"
   ]
  },
  {
   "cell_type": "code",
   "execution_count": 5,
   "metadata": {},
   "outputs": [
    {
     "name": "stdout",
     "output_type": "stream",
     "text": [
      "5.237281014802696e-05\n"
     ]
    }
   ],
   "source": [
    "print((lhs_A - rhs_A)/error_A)"
   ]
  },
  {
   "cell_type": "markdown",
   "metadata": {},
   "source": [
    "The difference between the two expressions is less than the estimated error in this calculation. The evaluation works for A."
   ]
  },
  {
   "cell_type": "code",
   "execution_count": 6,
   "metadata": {},
   "outputs": [
    {
     "ename": "ValueError",
     "evalue": "Matrix A must be symmetric positive definite.",
     "output_type": "error",
     "traceback": [
      "\u001b[0;31m---------------------------------------------------------------------------\u001b[0m",
      "\u001b[0;31mValueError\u001b[0m                                Traceback (most recent call last)",
      "Cell \u001b[0;32mIn[6], line 1\u001b[0m\n\u001b[0;32m----> 1\u001b[0m \u001b[43mverify_integral\u001b[49m\u001b[43m(\u001b[49m\u001b[43mA_prime\u001b[49m\u001b[43m,\u001b[49m\u001b[43m \u001b[49m\u001b[43mw\u001b[49m\u001b[43m)\u001b[49m\n",
      "Cell \u001b[0;32mIn[2], line 13\u001b[0m, in \u001b[0;36mverify_integral\u001b[0;34m(A, w)\u001b[0m\n\u001b[1;32m     11\u001b[0m \u001b[38;5;66;03m# Ensure A is symmetric positive definite\u001b[39;00m\n\u001b[1;32m     12\u001b[0m \u001b[38;5;28;01mif\u001b[39;00m \u001b[38;5;129;01mnot\u001b[39;00m np\u001b[38;5;241m.\u001b[39mallclose(A, A\u001b[38;5;241m.\u001b[39mT) \u001b[38;5;129;01mor\u001b[39;00m np\u001b[38;5;241m.\u001b[39many(np\u001b[38;5;241m.\u001b[39mlinalg\u001b[38;5;241m.\u001b[39meigvals(A) \u001b[38;5;241m<\u001b[39m\u001b[38;5;241m=\u001b[39m \u001b[38;5;241m0\u001b[39m):\n\u001b[0;32m---> 13\u001b[0m     \u001b[38;5;28;01mraise\u001b[39;00m \u001b[38;5;167;01mValueError\u001b[39;00m(\u001b[38;5;124m\"\u001b[39m\u001b[38;5;124mMatrix A must be symmetric positive definite.\u001b[39m\u001b[38;5;124m\"\u001b[39m)\n\u001b[1;32m     15\u001b[0m \u001b[38;5;66;03m# Compute closed-form expression\u001b[39;00m\n\u001b[1;32m     16\u001b[0m A_inv \u001b[38;5;241m=\u001b[39m np\u001b[38;5;241m.\u001b[39mlinalg\u001b[38;5;241m.\u001b[39minv(A)\n",
      "\u001b[0;31mValueError\u001b[0m: Matrix A must be symmetric positive definite."
     ]
    }
   ],
   "source": [
    "verify_integral(A_prime, w)"
   ]
  },
  {
   "cell_type": "markdown",
   "metadata": {},
   "source": [
    "A works but A' doesn't because A' is not symmetric positive definite. It has negative eigenvalues. "
   ]
  },
  {
   "cell_type": "markdown",
   "metadata": {},
   "source": [
    "**Part c) Correlation function and moments of a multivariate normal distribution**"
   ]
  },
  {
   "cell_type": "markdown",
   "metadata": {},
   "source": [
    "The expression for any $\\langle v_i \\rangle$ is:\n",
    "$$\\langle v_1 \\rangle = \\sum_{j=1}^{N} A^{-1}_{1j} w_j $$\n",
    "where N is the dimension of the vector/matrix, in this case N=3. "
   ]
  },
  {
   "cell_type": "code",
   "execution_count": 26,
   "metadata": {},
   "outputs": [
    {
     "data": {
      "text/plain": [
       "array([0.08955224, 0.10447761, 0.43283582])"
      ]
     },
     "execution_count": 26,
     "metadata": {},
     "output_type": "execute_result"
    }
   ],
   "source": [
    "# Calculate the inverse of A\n",
    "A_inv = np.linalg.inv(A)\n",
    "\n",
    "# Compute the first moments ⟨v1⟩, ⟨v2⟩, ⟨v3⟩\n",
    "moments = A_inv @ w\n",
    "\n",
    "moments  # ⟨v1⟩, ⟨v2⟩, ⟨v3⟩"
   ]
  },
  {
   "cell_type": "markdown",
   "metadata": {},
   "source": [
    "$$\\langle v_i v_j \\rangle = A^{-1}_{ij} + \\sum_{k=1}^{N} A^{-1}_{ik} w_k \\sum_{m=1}^{N} A^{-1}_{jm} w_m$$"
   ]
  },
  {
   "cell_type": "code",
   "execution_count": 27,
   "metadata": {},
   "outputs": [
    {
     "name": "stdout",
     "output_type": "stream",
     "text": [
      "⟨v1 v2⟩ = -0.12497215415460013\n",
      "⟨v2 v3⟩ = -0.1040320784139006\n",
      "⟨v1 v3⟩ = 0.0536867899309423\n"
     ]
    }
   ],
   "source": [
    "# Compute first moments ⟨v_i⟩ = sum_j A_inv[i, j] * w[j]\n",
    "v_expectation = A_inv @ w\n",
    "\n",
    "# Compute second moments ⟨v_i v_j⟩\n",
    "def second_moment(i, j, A_inv, w):\n",
    "    return A_inv[i, j] + v_expectation[i] * v_expectation[j]\n",
    "\n",
    "# Compute specific values\n",
    "v1v2 = second_moment(0, 1, A_inv, w)  # ⟨v1 v2⟩\n",
    "v2v3 = second_moment(1, 2, A_inv, w)  # ⟨v2 v3⟩\n",
    "v1v3 = second_moment(0, 2, A_inv, w)  # ⟨v1 v3⟩\n",
    "\n",
    "print(\"⟨v1 v2⟩ =\", v1v2)\n",
    "print(\"⟨v2 v3⟩ =\", v2v3)\n",
    "print(\"⟨v1 v3⟩ =\", v1v3)"
   ]
  },
  {
   "cell_type": "markdown",
   "metadata": {},
   "source": [
    "$$\\langle v_1^2 v_2 \\rangle = \\sum_{a,b,c} A^{-1}_{1a} A^{-1}_{1b} A^{-1}_{2c} w_a w_b w_c + 2 A^{-1}_{11} \\sum_c A^{-1}_{2c} w_c + A^{-1}_{12} \\sum_b A^{-1}_{1b} w_b$$"
   ]
  },
  {
   "cell_type": "code",
   "execution_count": 28,
   "metadata": {},
   "outputs": [
    {
     "name": "stdout",
     "output_type": "stream",
     "text": [
      "⟨v1^2 v2⟩ = 0.05430189218753642\n",
      "⟨v2 v3^2⟩ = 0.2863018389895034\n"
     ]
    }
   ],
   "source": [
    "# Compute third moments ⟨v_i^2 v_j⟩\n",
    "def third_moment(i, j, A_inv, w):\n",
    "    N = len(w)\n",
    "    term1 = sum(A_inv[i, a] * A_inv[i, b] * A_inv[j, c] * w[a] * w[b] * w[c] \n",
    "                for a in range(N) for b in range(N) for c in range(N))\n",
    "    term2 = 2 * A_inv[i, i] * sum(A_inv[j, c] * w[c] for c in range(N))\n",
    "    term3 = A_inv[i, j] * sum(A_inv[i, b] * w[b] for b in range(N))\n",
    "    return term1 + term2 + term3\n",
    "\n",
    "# Compute specific values\n",
    "v1sqv2 = third_moment(0, 1, A_inv, w)  # ⟨v1^2 v2⟩\n",
    "v2v3sq = third_moment(1, 2, A_inv, w)  # ⟨v2 v3^2⟩\n",
    "\n",
    "print(\"⟨v1^2 v2⟩ =\", v1sqv2)\n",
    "print(\"⟨v2 v3^2⟩ =\", v2v3sq)"
   ]
  },
  {
   "cell_type": "markdown",
   "metadata": {},
   "source": [
    "$$\\langle v_1^2 v_2^2 \\rangle = \\sum_{a,b,c,d} A^{-1}_{1a} A^{-1}_{1b} A^{-1}_{2c} A^{-1}_{2d} w_a w_b w_c w_d + 2 A^{-1}_{11} \\sum_{c, d} A^{-1}_{2c} A^{-1}_{2d} w_c w_d + 2 A^{-1}_{22} \\sum_{a,b} A^{-1}_{1a} A^{-1}_{1b} w_a w_b + 4 A^{-1}_{12} \\sum_{a,c} A^{-1}_{1a} A^{-1}_{2c} w_a w_c + 2 A^{-1}_{12} $$"
   ]
  },
  {
   "cell_type": "code",
   "execution_count": null,
   "metadata": {},
   "outputs": [
    {
     "name": "stdout",
     "output_type": "stream",
     "text": [
      "⟨v1^2 v2^2⟩ = 0.04349713348453424\n",
      "⟨v2^2 v3^2⟩ = 0.153439950065309\n"
     ]
    }
   ],
   "source": [
    "# Compute fourth moments ⟨v_i^2 v_j^2⟩\n",
    "def fourth_moment(i, j, A_inv, w):\n",
    "    N = len(w)\n",
    "    term1 = sum(A_inv[i, a] * A_inv[i, b] * A_inv[j, c] * A_inv[j, d] * w[a] * w[b] * w[c] * w[d] \n",
    "                for a in range(N) for b in range(N) for c in range(N) for d in range(N))\n",
    "    term2 = 2 * A_inv[i, i] * sum(A_inv[j, c] * A_inv[j, d] * w[c] * w[d] for c in range(N) for d in range(N))\n",
    "    term3 = 2 * A_inv[j, j] * sum(A_inv[i, a] * A_inv[i, b] * w[a] * w[b] for a in range(N) for b in range(N))\n",
    "    term4 = 4 * A_inv[i, j] * sum(A_inv[i, a] * A_inv[j, c] * w[a] * w[c] for a in range(N) for c in range(N))\n",
    "    term5 = 2 * A_inv[i, j]**2\n",
    "    return term1 + term2 + term3 + term4 + term5\n",
    "\n",
    "# Compute specific values\n",
    "v1sqv2sq = fourth_moment(0, 1, A_inv, w)  # ⟨v1^2 v2^2⟩\n",
    "v2sqv3sq = fourth_moment(1, 2, A_inv, w)  # ⟨v2^2 v3^2⟩\n",
    "\n",
    "print(\"⟨v1^2 v2^2⟩ =\", v1sqv2sq)\n",
    "print(\"⟨v2^2 v3^2⟩ =\", v2sqv3sq)"
   ]
  }
 ],
 "metadata": {
  "kernelspec": {
   "display_name": "Python 3",
   "language": "python",
   "name": "python3"
  },
  "language_info": {
   "codemirror_mode": {
    "name": "ipython",
    "version": 3
   },
   "file_extension": ".py",
   "mimetype": "text/x-python",
   "name": "python",
   "nbconvert_exporter": "python",
   "pygments_lexer": "ipython3",
   "version": "3.8.10"
  }
 },
 "nbformat": 4,
 "nbformat_minor": 2
}
