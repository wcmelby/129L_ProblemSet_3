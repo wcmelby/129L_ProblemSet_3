{
 "cells": [
  {
   "cell_type": "markdown",
   "metadata": {},
   "source": [
    "# Homework 3, Question 1: Normail Distribution (Gaussian)"
   ]
  },
  {
   "cell_type": "code",
   "execution_count": null,
   "metadata": {},
   "outputs": [],
   "source": [
    "import numpy as np\n",
    "from scipy.stats import multivariate_normal"
   ]
  },
  {
   "cell_type": "markdown",
   "metadata": {},
   "source": [
    "**Part A) Numerical Verification**"
   ]
  },
  {
   "cell_type": "code",
   "execution_count": 3,
   "metadata": {},
   "outputs": [],
   "source": [
    "def verify_expression(A, w):\n",
    "    # Ensure A is symmetric positive definite\n",
    "    if not np.allclose(A, A.T) or np.any(np.linalg.eigvals(A) <= 0):\n",
    "        raise ValueError(\"Matrix A must be symmetric positive definite.\")\n",
    "    \n",
    "    N = A.shape[0]\n",
    "\n",
    "    # Closed-form right-hand side\n",
    "    A_inv = np.linalg.inv(A)\n",
    "    determinant_factor = np.sqrt(np.linalg.det(A_inv) / (2 * np.pi)**N)\n",
    "    exponential_factor = np.exp(0.5 * w.T @ A_inv @ w)\n",
    "    rhs = determinant_factor * exponential_factor\n",
    "\n",
    "    # Numerical integration on the left-hand side\n",
    "    def integrand(v):\n",
    "        v = np.array(v)\n",
    "        exponent = -0.5 * v.T @ A @ v + v.T @ w\n",
    "        return np.exp(exponent)\n",
    "\n",
    "    # Multivariate normal integration with scipy\n",
    "    mean = np.zeros(N)\n",
    "    cov = np.linalg.inv(A)\n",
    "    lhs = multivariate_normal(mean=mean, cov=cov).pdf(w)\n",
    "\n",
    "    return lhs, rhs"
   ]
  },
  {
   "cell_type": "markdown",
   "metadata": {},
   "source": [
    "**Part b) Test Run**"
   ]
  },
  {
   "cell_type": "code",
   "execution_count": 5,
   "metadata": {},
   "outputs": [
    {
     "data": {
      "text/plain": [
       "(8.335290819108407e-29, 0.01723773424611236)"
      ]
     },
     "execution_count": 5,
     "metadata": {},
     "output_type": "execute_result"
    }
   ],
   "source": [
    "w = np.array([1, 2, 3])\n",
    "A = np.array([[4, 2, 1], [2, 5, 3], [1, 3, 6]])\n",
    "A_prime = np.array([[4, 2, 1], [2, 1, 3], [1, 3, 6]])\n",
    "\n",
    "verify_expression(A, w)"
   ]
  },
  {
   "cell_type": "code",
   "execution_count": 6,
   "metadata": {},
   "outputs": [
    {
     "ename": "ValueError",
     "evalue": "Matrix A must be symmetric positive definite.",
     "output_type": "error",
     "traceback": [
      "\u001b[0;31m---------------------------------------------------------------------------\u001b[0m",
      "\u001b[0;31mValueError\u001b[0m                                Traceback (most recent call last)",
      "Cell \u001b[0;32mIn[6], line 1\u001b[0m\n\u001b[0;32m----> 1\u001b[0m \u001b[43mverify_expression\u001b[49m\u001b[43m(\u001b[49m\u001b[43mA_prime\u001b[49m\u001b[43m,\u001b[49m\u001b[43m \u001b[49m\u001b[43mw\u001b[49m\u001b[43m)\u001b[49m\n",
      "Cell \u001b[0;32mIn[3], line 4\u001b[0m, in \u001b[0;36mverify_expression\u001b[0;34m(A, w)\u001b[0m\n\u001b[1;32m      1\u001b[0m \u001b[38;5;28;01mdef\u001b[39;00m\u001b[38;5;250m \u001b[39m\u001b[38;5;21mverify_expression\u001b[39m(A, w):\n\u001b[1;32m      2\u001b[0m     \u001b[38;5;66;03m# Ensure A is symmetric positive definite\u001b[39;00m\n\u001b[1;32m      3\u001b[0m     \u001b[38;5;28;01mif\u001b[39;00m \u001b[38;5;129;01mnot\u001b[39;00m np\u001b[38;5;241m.\u001b[39mallclose(A, A\u001b[38;5;241m.\u001b[39mT) \u001b[38;5;129;01mor\u001b[39;00m np\u001b[38;5;241m.\u001b[39many(np\u001b[38;5;241m.\u001b[39mlinalg\u001b[38;5;241m.\u001b[39meigvals(A) \u001b[38;5;241m<\u001b[39m\u001b[38;5;241m=\u001b[39m \u001b[38;5;241m0\u001b[39m):\n\u001b[0;32m----> 4\u001b[0m         \u001b[38;5;28;01mraise\u001b[39;00m \u001b[38;5;167;01mValueError\u001b[39;00m(\u001b[38;5;124m\"\u001b[39m\u001b[38;5;124mMatrix A must be symmetric positive definite.\u001b[39m\u001b[38;5;124m\"\u001b[39m)\n\u001b[1;32m      6\u001b[0m     N \u001b[38;5;241m=\u001b[39m A\u001b[38;5;241m.\u001b[39mshape[\u001b[38;5;241m0\u001b[39m]\n\u001b[1;32m      8\u001b[0m     \u001b[38;5;66;03m# Closed-form right-hand side\u001b[39;00m\n",
      "\u001b[0;31mValueError\u001b[0m: Matrix A must be symmetric positive definite."
     ]
    }
   ],
   "source": [
    "verify_expression(A_prime, w)"
   ]
  },
  {
   "cell_type": "markdown",
   "metadata": {},
   "source": [
    "A works but A' doesn't because A' is not symmetric positive definite. "
   ]
  },
  {
   "cell_type": "markdown",
   "metadata": {},
   "source": [
    "**Part c) Correlation function and moments of a multivariate normal distribution**"
   ]
  },
  {
   "cell_type": "markdown",
   "metadata": {},
   "source": []
  }
 ],
 "metadata": {
  "kernelspec": {
   "display_name": "Python 3",
   "language": "python",
   "name": "python3"
  },
  "language_info": {
   "codemirror_mode": {
    "name": "ipython",
    "version": 3
   },
   "file_extension": ".py",
   "mimetype": "text/x-python",
   "name": "python",
   "nbconvert_exporter": "python",
   "pygments_lexer": "ipython3",
   "version": "3.8.10"
  }
 },
 "nbformat": 4,
 "nbformat_minor": 2
}
